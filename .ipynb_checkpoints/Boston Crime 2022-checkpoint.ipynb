{
 "cells": [
  {
   "cell_type": "code",
   "execution_count": 3,
   "id": "244dca94",
   "metadata": {},
   "outputs": [],
   "source": [
    "import pandas as pd\n",
    "import numpy as np\n",
    "import matplotlib.pyplot as plt\n",
    "import seaborn as sns"
   ]
  },
  {
   "cell_type": "code",
   "execution_count": 4,
   "id": "2fee7f88",
   "metadata": {},
   "outputs": [
    {
     "name": "stderr",
     "output_type": "stream",
     "text": [
      "/var/folders/py/940kfjwx04g4y56ln_2mfy3r0000gn/T/ipykernel_17642/1878445305.py:1: DtypeWarning: Columns (0) have mixed types. Specify dtype option on import or set low_memory=False.\n",
      "  crime = pd.read_csv('crime_incident_reports_2022.csv')\n"
     ]
    },
    {
     "data": {
      "text/plain": [
       "<bound method NDFrame.head of       INCIDENT_NUMBER  OFFENSE_CODE  OFFENSE_CODE_GROUP  \\\n",
       "0           222076257           619                 NaN   \n",
       "1           222053099          2670                 NaN   \n",
       "2           222039411          3201                 NaN   \n",
       "3           222011090          3201                 NaN   \n",
       "4           222062685          3201                 NaN   \n",
       "...               ...           ...                 ...   \n",
       "73847       232000091          1402                 NaN   \n",
       "73848       232000002          3831                 NaN   \n",
       "73849       232000140           619                 NaN   \n",
       "73850       232000315          3201                 NaN   \n",
       "73851       232000052          3114                 NaN   \n",
       "\n",
       "                         OFFENSE_DESCRIPTION DISTRICT REPORTING_AREA  \\\n",
       "0                         LARCENY ALL OTHERS       D4            167   \n",
       "1            HARASSMENT/ CRIMINAL HARASSMENT       A7                  \n",
       "2                   PROPERTY - LOST/ MISSING      D14            778   \n",
       "3                   PROPERTY - LOST/ MISSING       B3            465   \n",
       "4                   PROPERTY - LOST/ MISSING       B3            465   \n",
       "...                                      ...      ...            ...   \n",
       "73847                              VANDALISM       A1             66   \n",
       "73848  M/V - LEAVING SCENE - PROPERTY DAMAGE      C11                  \n",
       "73849                     LARCENY ALL OTHERS      D14            778   \n",
       "73850               PROPERTY - LOST/ MISSING       D4            167   \n",
       "73851                   INVESTIGATE PROPERTY       A1                  \n",
       "\n",
       "       SHOOTING     OCCURRED_ON_DATE  YEAR  MONTH DAY_OF_WEEK  HOUR  UCR_PART  \\\n",
       "0             0  2022-01-01 00:00:00  2022      1    Saturday     0       NaN   \n",
       "1             0  2022-01-01 00:00:00  2022      1    Saturday     0       NaN   \n",
       "2             0  2022-01-01 00:00:00  2022      1    Saturday     0       NaN   \n",
       "3             0  2022-01-01 00:00:00  2022      1    Saturday     0       NaN   \n",
       "4             0  2022-01-01 00:00:00  2022      1    Saturday     0       NaN   \n",
       "...         ...                  ...   ...    ...         ...   ...       ...   \n",
       "73847         0  2022-12-31 23:30:00  2022     12    Saturday    23       NaN   \n",
       "73848         0  2022-12-31 23:37:00  2022     12    Saturday    23       NaN   \n",
       "73849         0  2022-12-31 23:45:00  2022     12    Saturday    23       NaN   \n",
       "73850         0  2022-12-31 23:50:00  2022     12    Saturday    23       NaN   \n",
       "73851         0  2022-12-31 23:50:00  2022     12    Saturday    23       NaN   \n",
       "\n",
       "                STREET        Lat       Long  \\\n",
       "0         HARRISON AVE  42.339542 -71.069409   \n",
       "1        BENNINGTON ST  42.377246 -71.032597   \n",
       "2        WASHINGTON ST  42.349056 -71.150498   \n",
       "3        BLUE HILL AVE  42.284826 -71.091374   \n",
       "4        BLUE HILL AVE  42.284826 -71.091374   \n",
       "...                ...        ...        ...   \n",
       "73847       CHARLES ST  42.359790 -71.070782   \n",
       "73848      COLUMBIA RD  42.319593 -71.062607   \n",
       "73849    WASHINGTON ST  42.349056 -71.150498   \n",
       "73850  HARRISON AVENUE        NaN        NaN   \n",
       "73851  MOUNT VERNON ST  42.357879 -71.069680   \n",
       "\n",
       "                                       Location  \n",
       "0       (42.33954198983014, -71.06940876967543)  \n",
       "1        (42.37724638479816, -71.0325970804128)  \n",
       "2       (42.34905600030506, -71.15049849975023)  \n",
       "3       (42.28482576580488, -71.09137368938802)  \n",
       "4       (42.28482576580488, -71.09137368938802)  \n",
       "...                                         ...  \n",
       "73847   (42.35979037458775, -71.07078234449541)  \n",
       "73848   (42.31959298334654, -71.06260699634272)  \n",
       "73849   (42.34905600030506, -71.15049849975023)  \n",
       "73850                                       NaN  \n",
       "73851  (42.357878706878985, -71.06967973039733)  \n",
       "\n",
       "[73852 rows x 17 columns]>"
      ]
     },
     "execution_count": 4,
     "metadata": {},
     "output_type": "execute_result"
    }
   ],
   "source": [
    "crime = pd.read_csv('crime_incident_reports_2022.csv')\n",
    "crime.head\n"
   ]
  },
  {
   "cell_type": "code",
   "execution_count": 5,
   "id": "39353f2c",
   "metadata": {},
   "outputs": [
    {
     "data": {
      "text/plain": [
       "Index(['INCIDENT_NUMBER', 'OFFENSE_CODE', 'OFFENSE_CODE_GROUP',\n",
       "       'OFFENSE_DESCRIPTION', 'DISTRICT', 'REPORTING_AREA', 'SHOOTING',\n",
       "       'OCCURRED_ON_DATE', 'YEAR', 'MONTH', 'DAY_OF_WEEK', 'HOUR', 'UCR_PART',\n",
       "       'STREET', 'Lat', 'Long', 'Location'],\n",
       "      dtype='object')"
      ]
     },
     "execution_count": 5,
     "metadata": {},
     "output_type": "execute_result"
    }
   ],
   "source": [
    "crime.columns"
   ]
  },
  {
   "cell_type": "code",
   "execution_count": 6,
   "id": "1b55c457",
   "metadata": {},
   "outputs": [
    {
     "name": "stdout",
     "output_type": "stream",
     "text": [
      "Sunday: 9149 crimes\n",
      "Monday: 10698 crimes\n",
      "Tuesday: 10445 crimes\n",
      "Wednesday: 10825 crimes\n",
      "Thursday: 10847 crimes\n",
      "Friday: 11292 crimes\n",
      "Saturday: 10596 crimes\n"
     ]
    }
   ],
   "source": [
    "day_of_week = ['Sunday', 'Monday', 'Tuesday', 'Wednesday', 'Thursday', 'Friday', 'Saturday']\n",
    "for day in day_of_week:\n",
    "    print(f\"{day}: {crime['DAY_OF_WEEK'].value_counts()[day]} crimes\")\n",
    "    "
   ]
  },
  {
   "cell_type": "code",
   "execution_count": 7,
   "id": "6fd7579d",
   "metadata": {},
   "outputs": [
    {
     "data": {
      "text/plain": [
       "<Axes: xlabel='DAY_OF_WEEK', ylabel='Count'>"
      ]
     },
     "execution_count": 7,
     "metadata": {},
     "output_type": "execute_result"
    },
    {
     "data": {
      "image/png": "[encoded data removed]",
      "text/plain": [
       "<Figure size 640x480 with 1 Axes>"
      ]
     },
     "metadata": {},
     "output_type": "display_data"
    }
   ],
   "source": [
    "sns.histplot(data=crime['DAY_OF_WEEK'])"
   ]
  },
  {
   "cell_type": "code",
   "execution_count": 16,
   "id": "cd8d4532",
   "metadata": {},
   "outputs": [
    {
     "name": "stdout",
     "output_type": "stream",
     "text": [
      "1: 5526 crimes\n",
      "2: 5418 crimes\n",
      "3: 6136 crimes\n",
      "4: 6103 crimes\n",
      "5: 6474 crimes\n",
      "6: 6500 crimes\n",
      "7: 6726 crimes\n",
      "8: 6612 crimes\n",
      "9: 6300 crimes\n",
      "10: 6235 crimes\n",
      "11: 5963 crimes\n",
      "12: 5859 crimes\n"
     ]
    }
   ],
   "source": [
    "month_arr = [1, 2 ,3 ,4 ,5 ,6, 7, 8, 9 ,10 ,11, 12]\n",
    "for month in month_arr:\n",
    "    print(f\"{month}: {crime['MONTH'].value_counts()[month]} crimes\")\n",
    "\n"
   ]
  },
  {
   "cell_type": "code",
   "execution_count": 11,
   "id": "e72830fa",
   "metadata": {},
   "outputs": [
    {
     "name": "stdout",
     "output_type": "stream",
     "text": [
      "code: 3115    8070\n",
      "1831    5484\n",
      "3831    4562\n",
      "3114    3539\n",
      "3410    3190\n",
      "801     2972\n",
      "1402    2902\n",
      "3201    2498\n",
      "613     2234\n",
      "3802    1953\n",
      "3301    1841\n",
      "614     1767\n",
      "617     1698\n",
      "423     1606\n",
      "2647    1556\n",
      "1810    1504\n",
      "3801    1473\n",
      "3006    1432\n",
      "619     1416\n",
      "2670    1114\n",
      "3207    1095\n",
      "2905    1053\n",
      "3502    1052\n",
      "724     1029\n",
      "1102    1020\n",
      "Name: OFFENSE_CODE, dtype: int64\n"
     ]
    }
   ],
   "source": [
    "print(f\"code: {crime['OFFENSE_CODE'].value_counts().head(25)}\")"
   ]
  },
  {
   "cell_type": "code",
   "execution_count": null,
   "id": "6aeeb115",
   "metadata": {},
   "outputs": [],
   "source": []
  }
 ],
 "metadata": {
  "kernelspec": {
   "display_name": "Python 3 (ipykernel)",
   "language": "python",
   "name": "python3"
  },
  "language_info": {
   "codemirror_mode": {
    "name": "ipython",
    "version": 3
   },
   "file_extension": ".py",
   "mimetype": "text/x-python",
   "name": "python",
   "nbconvert_exporter": "python",
   "pygments_lexer": "ipython3",
   "version": "3.10.9"
  }
 },
 "nbformat": 4,
 "nbformat_minor": 5
}
